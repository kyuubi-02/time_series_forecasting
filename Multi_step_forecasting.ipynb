{
  "nbformat": 4,
  "nbformat_minor": 0,
  "metadata": {
    "colab": {
      "provenance": [],
      "collapsed_sections": []
    },
    "kernelspec": {
      "name": "python3",
      "display_name": "Python 3"
    },
    "language_info": {
      "name": "python"
    }
  },
  "cells": [
    {
      "cell_type": "markdown",
      "source": [
        "# Read the data\n",
        "\n",
        "##### The data can be dound at https://archive.ics.uci.edu/ml/machine-learning-databases/00235/household_power_consumption.zip\n",
        "\n",
        "##### Metadata about the data is at: https://archive.ics.uci.edu/ml/datasets/individual+household+electric+power+consumption"
      ],
      "metadata": {
        "id": "dRCubqlBjDku"
      }
    },
    {
      "cell_type": "code",
      "execution_count": null,
      "metadata": {
        "colab": {
          "base_uri": "https://localhost:8080/"
        },
        "id": "PS5x5Ei7h3Jn",
        "outputId": "57e45d42-56e2-4505-b276-9cc4c930de42"
      },
      "outputs": [
        {
          "output_type": "stream",
          "name": "stdout",
          "text": [
            "  % Total    % Received % Xferd  Average Speed   Time    Time     Time  Current\n",
            "                                 Dload  Upload   Total   Spent    Left  Speed\n",
            "100 19.6M  100 19.6M    0     0  7487k      0  0:00:02  0:00:02 --:--:-- 7487k\n"
          ]
        }
      ],
      "source": [
        "! mkdir ./data\n",
        "! mkdir ./data/zip/\n",
        "! curl https://archive.ics.uci.edu/ml/machine-learning-databases/00235/household_power_consumption.zip --output data/zip/dataset"
      ]
    },
    {
      "cell_type": "markdown",
      "source": [
        "#Make the data into readable csv format"
      ],
      "metadata": {
        "id": "TUQbeDbvjXvF"
      }
    },
    {
      "cell_type": "code",
      "source": [
        "import zipfile\n",
        "\n",
        "with zipfile.ZipFile('data/zip/dataset', 'r') as zip_ref:\n",
        "    zip_ref.extractall('data/')"
      ],
      "metadata": {
        "id": "cRFTgCFMiAH9"
      },
      "execution_count": null,
      "outputs": []
    },
    {
      "cell_type": "markdown",
      "source": [
        "##### Check if the dataset is created properly"
      ],
      "metadata": {
        "id": "y0tmog3inQdc"
      }
    },
    {
      "cell_type": "code",
      "source": [
        "!ls data/\n",
        "!ls data/zip"
      ],
      "metadata": {
        "colab": {
          "base_uri": "https://localhost:8080/"
        },
        "id": "rzI-ElKwiNjh",
        "outputId": "c80343c5-4774-44f3-a495-48104bb9d3d4"
      },
      "execution_count": null,
      "outputs": [
        {
          "output_type": "stream",
          "name": "stdout",
          "text": [
            "household_power_consumption.txt  zip\n",
            "dataset\n"
          ]
        }
      ]
    },
    {
      "cell_type": "markdown",
      "source": [
        "#Importing all the primary libraries"
      ],
      "metadata": {
        "id": "J_VLR8sWnuxD"
      }
    },
    {
      "cell_type": "code",
      "source": [
        "import numpy as np\n",
        "import pandas as pd\n",
        "\n",
        "from sklearn.preprocessing import MinMaxScaler\n",
        "\n",
        "from sklearn.metrics import mean_absolute_percentage_error"
      ],
      "metadata": {
        "id": "pu8LA_dvn1fc"
      },
      "execution_count": null,
      "outputs": []
    },
    {
      "cell_type": "markdown",
      "source": [
        "# Read the data into pandas dataframe"
      ],
      "metadata": {
        "id": "Ii72naeHnqKs"
      }
    },
    {
      "cell_type": "code",
      "source": [
        "household_power_consumption_df = pd.read_csv('data/household_power_consumption.txt', sep=';')"
      ],
      "metadata": {
        "colab": {
          "base_uri": "https://localhost:8080/"
        },
        "id": "4ugO2fi1iu3J",
        "outputId": "d88b19d8-7e17-48b8-ca20-ce3e46e4d924"
      },
      "execution_count": null,
      "outputs": [
        {
          "output_type": "stream",
          "name": "stderr",
          "text": [
            "/usr/local/lib/python3.7/dist-packages/IPython/core/interactiveshell.py:3326: DtypeWarning: Columns (2,3,4,5,6,7) have mixed types.Specify dtype option on import or set low_memory=False.\n",
            "  exec(code_obj, self.user_global_ns, self.user_ns)\n"
          ]
        }
      ]
    },
    {
      "cell_type": "code",
      "source": [
        "household_power_consumption_df.head()"
      ],
      "metadata": {
        "colab": {
          "base_uri": "https://localhost:8080/",
          "height": 206
        },
        "id": "Dz0Vipd5pq2B",
        "outputId": "883143cb-378b-4fc5-8e53-a2cd4055c7b4"
      },
      "execution_count": null,
      "outputs": [
        {
          "output_type": "execute_result",
          "data": {
            "text/plain": [
              "         Date      Time Global_active_power Global_reactive_power  Voltage  \\\n",
              "0  16/12/2006  17:24:00               4.216                 0.418  234.840   \n",
              "1  16/12/2006  17:25:00               5.360                 0.436  233.630   \n",
              "2  16/12/2006  17:26:00               5.374                 0.498  233.290   \n",
              "3  16/12/2006  17:27:00               5.388                 0.502  233.740   \n",
              "4  16/12/2006  17:28:00               3.666                 0.528  235.680   \n",
              "\n",
              "  Global_intensity Sub_metering_1 Sub_metering_2  Sub_metering_3  \n",
              "0           18.400          0.000          1.000            17.0  \n",
              "1           23.000          0.000          1.000            16.0  \n",
              "2           23.000          0.000          2.000            17.0  \n",
              "3           23.000          0.000          1.000            17.0  \n",
              "4           15.800          0.000          1.000            17.0  "
            ],
            "text/html": [
              "\n",
              "  <div id=\"df-0a1439a5-b637-4b53-9a0e-19e6c5d13797\">\n",
              "    <div class=\"colab-df-container\">\n",
              "      <div>\n",
              "<style scoped>\n",
              "    .dataframe tbody tr th:only-of-type {\n",
              "        vertical-align: middle;\n",
              "    }\n",
              "\n",
              "    .dataframe tbody tr th {\n",
              "        vertical-align: top;\n",
              "    }\n",
              "\n",
              "    .dataframe thead th {\n",
              "        text-align: right;\n",
              "    }\n",
              "</style>\n",
              "<table border=\"1\" class=\"dataframe\">\n",
              "  <thead>\n",
              "    <tr style=\"text-align: right;\">\n",
              "      <th></th>\n",
              "      <th>Date</th>\n",
              "      <th>Time</th>\n",
              "      <th>Global_active_power</th>\n",
              "      <th>Global_reactive_power</th>\n",
              "      <th>Voltage</th>\n",
              "      <th>Global_intensity</th>\n",
              "      <th>Sub_metering_1</th>\n",
              "      <th>Sub_metering_2</th>\n",
              "      <th>Sub_metering_3</th>\n",
              "    </tr>\n",
              "  </thead>\n",
              "  <tbody>\n",
              "    <tr>\n",
              "      <th>0</th>\n",
              "      <td>16/12/2006</td>\n",
              "      <td>17:24:00</td>\n",
              "      <td>4.216</td>\n",
              "      <td>0.418</td>\n",
              "      <td>234.840</td>\n",
              "      <td>18.400</td>\n",
              "      <td>0.000</td>\n",
              "      <td>1.000</td>\n",
              "      <td>17.0</td>\n",
              "    </tr>\n",
              "    <tr>\n",
              "      <th>1</th>\n",
              "      <td>16/12/2006</td>\n",
              "      <td>17:25:00</td>\n",
              "      <td>5.360</td>\n",
              "      <td>0.436</td>\n",
              "      <td>233.630</td>\n",
              "      <td>23.000</td>\n",
              "      <td>0.000</td>\n",
              "      <td>1.000</td>\n",
              "      <td>16.0</td>\n",
              "    </tr>\n",
              "    <tr>\n",
              "      <th>2</th>\n",
              "      <td>16/12/2006</td>\n",
              "      <td>17:26:00</td>\n",
              "      <td>5.374</td>\n",
              "      <td>0.498</td>\n",
              "      <td>233.290</td>\n",
              "      <td>23.000</td>\n",
              "      <td>0.000</td>\n",
              "      <td>2.000</td>\n",
              "      <td>17.0</td>\n",
              "    </tr>\n",
              "    <tr>\n",
              "      <th>3</th>\n",
              "      <td>16/12/2006</td>\n",
              "      <td>17:27:00</td>\n",
              "      <td>5.388</td>\n",
              "      <td>0.502</td>\n",
              "      <td>233.740</td>\n",
              "      <td>23.000</td>\n",
              "      <td>0.000</td>\n",
              "      <td>1.000</td>\n",
              "      <td>17.0</td>\n",
              "    </tr>\n",
              "    <tr>\n",
              "      <th>4</th>\n",
              "      <td>16/12/2006</td>\n",
              "      <td>17:28:00</td>\n",
              "      <td>3.666</td>\n",
              "      <td>0.528</td>\n",
              "      <td>235.680</td>\n",
              "      <td>15.800</td>\n",
              "      <td>0.000</td>\n",
              "      <td>1.000</td>\n",
              "      <td>17.0</td>\n",
              "    </tr>\n",
              "  </tbody>\n",
              "</table>\n",
              "</div>\n",
              "      <button class=\"colab-df-convert\" onclick=\"convertToInteractive('df-0a1439a5-b637-4b53-9a0e-19e6c5d13797')\"\n",
              "              title=\"Convert this dataframe to an interactive table.\"\n",
              "              style=\"display:none;\">\n",
              "        \n",
              "  <svg xmlns=\"http://www.w3.org/2000/svg\" height=\"24px\"viewBox=\"0 0 24 24\"\n",
              "       width=\"24px\">\n",
              "    <path d=\"M0 0h24v24H0V0z\" fill=\"none\"/>\n",
              "    <path d=\"M18.56 5.44l.94 2.06.94-2.06 2.06-.94-2.06-.94-.94-2.06-.94 2.06-2.06.94zm-11 1L8.5 8.5l.94-2.06 2.06-.94-2.06-.94L8.5 2.5l-.94 2.06-2.06.94zm10 10l.94 2.06.94-2.06 2.06-.94-2.06-.94-.94-2.06-.94 2.06-2.06.94z\"/><path d=\"M17.41 7.96l-1.37-1.37c-.4-.4-.92-.59-1.43-.59-.52 0-1.04.2-1.43.59L10.3 9.45l-7.72 7.72c-.78.78-.78 2.05 0 2.83L4 21.41c.39.39.9.59 1.41.59.51 0 1.02-.2 1.41-.59l7.78-7.78 2.81-2.81c.8-.78.8-2.07 0-2.86zM5.41 20L4 18.59l7.72-7.72 1.47 1.35L5.41 20z\"/>\n",
              "  </svg>\n",
              "      </button>\n",
              "      \n",
              "  <style>\n",
              "    .colab-df-container {\n",
              "      display:flex;\n",
              "      flex-wrap:wrap;\n",
              "      gap: 12px;\n",
              "    }\n",
              "\n",
              "    .colab-df-convert {\n",
              "      background-color: #E8F0FE;\n",
              "      border: none;\n",
              "      border-radius: 50%;\n",
              "      cursor: pointer;\n",
              "      display: none;\n",
              "      fill: #1967D2;\n",
              "      height: 32px;\n",
              "      padding: 0 0 0 0;\n",
              "      width: 32px;\n",
              "    }\n",
              "\n",
              "    .colab-df-convert:hover {\n",
              "      background-color: #E2EBFA;\n",
              "      box-shadow: 0px 1px 2px rgba(60, 64, 67, 0.3), 0px 1px 3px 1px rgba(60, 64, 67, 0.15);\n",
              "      fill: #174EA6;\n",
              "    }\n",
              "\n",
              "    [theme=dark] .colab-df-convert {\n",
              "      background-color: #3B4455;\n",
              "      fill: #D2E3FC;\n",
              "    }\n",
              "\n",
              "    [theme=dark] .colab-df-convert:hover {\n",
              "      background-color: #434B5C;\n",
              "      box-shadow: 0px 1px 3px 1px rgba(0, 0, 0, 0.15);\n",
              "      filter: drop-shadow(0px 1px 2px rgba(0, 0, 0, 0.3));\n",
              "      fill: #FFFFFF;\n",
              "    }\n",
              "  </style>\n",
              "\n",
              "      <script>\n",
              "        const buttonEl =\n",
              "          document.querySelector('#df-0a1439a5-b637-4b53-9a0e-19e6c5d13797 button.colab-df-convert');\n",
              "        buttonEl.style.display =\n",
              "          google.colab.kernel.accessAllowed ? 'block' : 'none';\n",
              "\n",
              "        async function convertToInteractive(key) {\n",
              "          const element = document.querySelector('#df-0a1439a5-b637-4b53-9a0e-19e6c5d13797');\n",
              "          const dataTable =\n",
              "            await google.colab.kernel.invokeFunction('convertToInteractive',\n",
              "                                                     [key], {});\n",
              "          if (!dataTable) return;\n",
              "\n",
              "          const docLinkHtml = 'Like what you see? Visit the ' +\n",
              "            '<a target=\"_blank\" href=https://colab.research.google.com/notebooks/data_table.ipynb>data table notebook</a>'\n",
              "            + ' to learn more about interactive tables.';\n",
              "          element.innerHTML = '';\n",
              "          dataTable['output_type'] = 'display_data';\n",
              "          await google.colab.output.renderOutput(dataTable, element);\n",
              "          const docLink = document.createElement('div');\n",
              "          docLink.innerHTML = docLinkHtml;\n",
              "          element.appendChild(docLink);\n",
              "        }\n",
              "      </script>\n",
              "    </div>\n",
              "  </div>\n",
              "  "
            ]
          },
          "metadata": {},
          "execution_count": 7
        }
      ]
    },
    {
      "cell_type": "markdown",
      "source": [
        "#Doing some data exploration"
      ],
      "metadata": {
        "id": "5fagR94KrXfc"
      }
    },
    {
      "cell_type": "code",
      "source": [
        "### Change date and time into one column and make that index\n",
        "\n",
        "household_power_consumption_df['timestamp'] = pd.to_datetime(household_power_consumption_df['Date'] + ' ' + household_power_consumption_df['Time'], format='%d/%m/%Y %H:%M:%S')\n",
        "\n",
        "household_power_consumption_df.drop(['Date', 'Time'], inplace=True, axis=1)\n",
        "household_power_consumption_df.set_index(['timestamp'], inplace=True)\n"
      ],
      "metadata": {
        "id": "b3C1J-5WqPF9"
      },
      "execution_count": null,
      "outputs": []
    },
    {
      "cell_type": "code",
      "source": [
        "### Replace the '?' with Nan then convert every column to float 32\n",
        "household_power_consumption_df.replace('?', np.nan, inplace=True)\n",
        "household_power_consumption_df = household_power_consumption_df.astype('float32')"
      ],
      "metadata": {
        "id": "JfHK_b7xvOcF"
      },
      "execution_count": null,
      "outputs": []
    },
    {
      "cell_type": "code",
      "source": [
        "### Fill the missing values with the values from 24 hours prior \n",
        "household_power_consumption_df.fillna(household_power_consumption_df.shift(24, freq='H'), inplace=True)"
      ],
      "metadata": {
        "id": "1e52h6nyJFp1"
      },
      "execution_count": null,
      "outputs": []
    },
    {
      "cell_type": "code",
      "source": [
        "### Convert minutely data to hourly data as we want to forecast power needs for an hour. Aggregation function used is 'sum'\n",
        "household_daily_power_consumption_df = household_power_consumption_df.resample('H').sum()"
      ],
      "metadata": {
        "id": "szfDsVn3OSw7"
      },
      "execution_count": null,
      "outputs": []
    },
    {
      "cell_type": "code",
      "source": [
        "### Ignoring the first and the last hour as they might not be complete(data might not be available for that complete hour but only part of it)\n",
        "household_daily_power_consumption_df = household_daily_power_consumption_df[1:-4]"
      ],
      "metadata": {
        "id": "x7VrEmolQhDS"
      },
      "execution_count": null,
      "outputs": []
    },
    {
      "cell_type": "code",
      "source": [
        "household_daily_power_consumption_df.loc['2010']"
      ],
      "metadata": {
        "colab": {
          "base_uri": "https://localhost:8080/",
          "height": 455
        },
        "id": "O9DGrbi0QzZt",
        "outputId": "cab6fc17-e43a-4c6e-f8c2-48c8c8232cf1"
      },
      "execution_count": null,
      "outputs": [
        {
          "output_type": "execute_result",
          "data": {
            "text/plain": [
              "                     Global_active_power  Global_reactive_power       Voltage  \\\n",
              "timestamp                                                                       \n",
              "2010-01-01 00:00:00            65.152000                  5.050  14478.000000   \n",
              "2010-01-01 01:00:00            39.074001                  8.924  14497.240234   \n",
              "2010-01-01 02:00:00            38.076000                  6.190  14640.740234   \n",
              "2010-01-01 03:00:00            39.180000                  4.788  14643.830078   \n",
              "2010-01-01 04:00:00            38.764000                  8.210  14498.959961   \n",
              "...                                  ...                    ...           ...   \n",
              "2010-11-26 13:00:00            96.776001                 12.392  14313.019531   \n",
              "2010-11-26 14:00:00            84.466003                  7.514  14381.419922   \n",
              "2010-11-26 15:00:00            52.585999                  6.154  14447.440430   \n",
              "2010-11-26 16:00:00            64.075996                 12.938  14427.469727   \n",
              "2010-11-26 17:00:00           103.554001                  3.684  14224.179688   \n",
              "\n",
              "                     Global_intensity  Sub_metering_1  Sub_metering_2  \\\n",
              "timestamp                                                               \n",
              "2010-01-01 00:00:00        268.600006             0.0             0.0   \n",
              "2010-01-01 01:00:00        163.399994             0.0            48.0   \n",
              "2010-01-01 02:00:00        159.199997             0.0             0.0   \n",
              "2010-01-01 03:00:00        162.400009             0.0             0.0   \n",
              "2010-01-01 04:00:00        161.199997             0.0            45.0   \n",
              "...                               ...             ...             ...   \n",
              "2010-11-26 13:00:00        412.799988             0.0             0.0   \n",
              "2010-11-26 14:00:00        351.199982             0.0             0.0   \n",
              "2010-11-26 15:00:00        218.599991             0.0            16.0   \n",
              "2010-11-26 16:00:00        276.600006             0.0            57.0   \n",
              "2010-11-26 17:00:00        433.000000             0.0             0.0   \n",
              "\n",
              "                     Sub_metering_3  \n",
              "timestamp                            \n",
              "2010-01-01 00:00:00           511.0  \n",
              "2010-01-01 01:00:00            39.0  \n",
              "2010-01-01 02:00:00            40.0  \n",
              "2010-01-01 03:00:00            83.0  \n",
              "2010-01-01 04:00:00            40.0  \n",
              "...                             ...  \n",
              "2010-11-26 13:00:00          1048.0  \n",
              "2010-11-26 14:00:00          1058.0  \n",
              "2010-11-26 15:00:00           514.0  \n",
              "2010-11-26 16:00:00             0.0  \n",
              "2010-11-26 17:00:00           772.0  \n",
              "\n",
              "[7914 rows x 7 columns]"
            ],
            "text/html": [
              "\n",
              "  <div id=\"df-d83aaa44-0f68-47e5-940d-e36d9434f624\">\n",
              "    <div class=\"colab-df-container\">\n",
              "      <div>\n",
              "<style scoped>\n",
              "    .dataframe tbody tr th:only-of-type {\n",
              "        vertical-align: middle;\n",
              "    }\n",
              "\n",
              "    .dataframe tbody tr th {\n",
              "        vertical-align: top;\n",
              "    }\n",
              "\n",
              "    .dataframe thead th {\n",
              "        text-align: right;\n",
              "    }\n",
              "</style>\n",
              "<table border=\"1\" class=\"dataframe\">\n",
              "  <thead>\n",
              "    <tr style=\"text-align: right;\">\n",
              "      <th></th>\n",
              "      <th>Global_active_power</th>\n",
              "      <th>Global_reactive_power</th>\n",
              "      <th>Voltage</th>\n",
              "      <th>Global_intensity</th>\n",
              "      <th>Sub_metering_1</th>\n",
              "      <th>Sub_metering_2</th>\n",
              "      <th>Sub_metering_3</th>\n",
              "    </tr>\n",
              "    <tr>\n",
              "      <th>timestamp</th>\n",
              "      <th></th>\n",
              "      <th></th>\n",
              "      <th></th>\n",
              "      <th></th>\n",
              "      <th></th>\n",
              "      <th></th>\n",
              "      <th></th>\n",
              "    </tr>\n",
              "  </thead>\n",
              "  <tbody>\n",
              "    <tr>\n",
              "      <th>2010-01-01 00:00:00</th>\n",
              "      <td>65.152000</td>\n",
              "      <td>5.050</td>\n",
              "      <td>14478.000000</td>\n",
              "      <td>268.600006</td>\n",
              "      <td>0.0</td>\n",
              "      <td>0.0</td>\n",
              "      <td>511.0</td>\n",
              "    </tr>\n",
              "    <tr>\n",
              "      <th>2010-01-01 01:00:00</th>\n",
              "      <td>39.074001</td>\n",
              "      <td>8.924</td>\n",
              "      <td>14497.240234</td>\n",
              "      <td>163.399994</td>\n",
              "      <td>0.0</td>\n",
              "      <td>48.0</td>\n",
              "      <td>39.0</td>\n",
              "    </tr>\n",
              "    <tr>\n",
              "      <th>2010-01-01 02:00:00</th>\n",
              "      <td>38.076000</td>\n",
              "      <td>6.190</td>\n",
              "      <td>14640.740234</td>\n",
              "      <td>159.199997</td>\n",
              "      <td>0.0</td>\n",
              "      <td>0.0</td>\n",
              "      <td>40.0</td>\n",
              "    </tr>\n",
              "    <tr>\n",
              "      <th>2010-01-01 03:00:00</th>\n",
              "      <td>39.180000</td>\n",
              "      <td>4.788</td>\n",
              "      <td>14643.830078</td>\n",
              "      <td>162.400009</td>\n",
              "      <td>0.0</td>\n",
              "      <td>0.0</td>\n",
              "      <td>83.0</td>\n",
              "    </tr>\n",
              "    <tr>\n",
              "      <th>2010-01-01 04:00:00</th>\n",
              "      <td>38.764000</td>\n",
              "      <td>8.210</td>\n",
              "      <td>14498.959961</td>\n",
              "      <td>161.199997</td>\n",
              "      <td>0.0</td>\n",
              "      <td>45.0</td>\n",
              "      <td>40.0</td>\n",
              "    </tr>\n",
              "    <tr>\n",
              "      <th>...</th>\n",
              "      <td>...</td>\n",
              "      <td>...</td>\n",
              "      <td>...</td>\n",
              "      <td>...</td>\n",
              "      <td>...</td>\n",
              "      <td>...</td>\n",
              "      <td>...</td>\n",
              "    </tr>\n",
              "    <tr>\n",
              "      <th>2010-11-26 13:00:00</th>\n",
              "      <td>96.776001</td>\n",
              "      <td>12.392</td>\n",
              "      <td>14313.019531</td>\n",
              "      <td>412.799988</td>\n",
              "      <td>0.0</td>\n",
              "      <td>0.0</td>\n",
              "      <td>1048.0</td>\n",
              "    </tr>\n",
              "    <tr>\n",
              "      <th>2010-11-26 14:00:00</th>\n",
              "      <td>84.466003</td>\n",
              "      <td>7.514</td>\n",
              "      <td>14381.419922</td>\n",
              "      <td>351.199982</td>\n",
              "      <td>0.0</td>\n",
              "      <td>0.0</td>\n",
              "      <td>1058.0</td>\n",
              "    </tr>\n",
              "    <tr>\n",
              "      <th>2010-11-26 15:00:00</th>\n",
              "      <td>52.585999</td>\n",
              "      <td>6.154</td>\n",
              "      <td>14447.440430</td>\n",
              "      <td>218.599991</td>\n",
              "      <td>0.0</td>\n",
              "      <td>16.0</td>\n",
              "      <td>514.0</td>\n",
              "    </tr>\n",
              "    <tr>\n",
              "      <th>2010-11-26 16:00:00</th>\n",
              "      <td>64.075996</td>\n",
              "      <td>12.938</td>\n",
              "      <td>14427.469727</td>\n",
              "      <td>276.600006</td>\n",
              "      <td>0.0</td>\n",
              "      <td>57.0</td>\n",
              "      <td>0.0</td>\n",
              "    </tr>\n",
              "    <tr>\n",
              "      <th>2010-11-26 17:00:00</th>\n",
              "      <td>103.554001</td>\n",
              "      <td>3.684</td>\n",
              "      <td>14224.179688</td>\n",
              "      <td>433.000000</td>\n",
              "      <td>0.0</td>\n",
              "      <td>0.0</td>\n",
              "      <td>772.0</td>\n",
              "    </tr>\n",
              "  </tbody>\n",
              "</table>\n",
              "<p>7914 rows × 7 columns</p>\n",
              "</div>\n",
              "      <button class=\"colab-df-convert\" onclick=\"convertToInteractive('df-d83aaa44-0f68-47e5-940d-e36d9434f624')\"\n",
              "              title=\"Convert this dataframe to an interactive table.\"\n",
              "              style=\"display:none;\">\n",
              "        \n",
              "  <svg xmlns=\"http://www.w3.org/2000/svg\" height=\"24px\"viewBox=\"0 0 24 24\"\n",
              "       width=\"24px\">\n",
              "    <path d=\"M0 0h24v24H0V0z\" fill=\"none\"/>\n",
              "    <path d=\"M18.56 5.44l.94 2.06.94-2.06 2.06-.94-2.06-.94-.94-2.06-.94 2.06-2.06.94zm-11 1L8.5 8.5l.94-2.06 2.06-.94-2.06-.94L8.5 2.5l-.94 2.06-2.06.94zm10 10l.94 2.06.94-2.06 2.06-.94-2.06-.94-.94-2.06-.94 2.06-2.06.94z\"/><path d=\"M17.41 7.96l-1.37-1.37c-.4-.4-.92-.59-1.43-.59-.52 0-1.04.2-1.43.59L10.3 9.45l-7.72 7.72c-.78.78-.78 2.05 0 2.83L4 21.41c.39.39.9.59 1.41.59.51 0 1.02-.2 1.41-.59l7.78-7.78 2.81-2.81c.8-.78.8-2.07 0-2.86zM5.41 20L4 18.59l7.72-7.72 1.47 1.35L5.41 20z\"/>\n",
              "  </svg>\n",
              "      </button>\n",
              "      \n",
              "  <style>\n",
              "    .colab-df-container {\n",
              "      display:flex;\n",
              "      flex-wrap:wrap;\n",
              "      gap: 12px;\n",
              "    }\n",
              "\n",
              "    .colab-df-convert {\n",
              "      background-color: #E8F0FE;\n",
              "      border: none;\n",
              "      border-radius: 50%;\n",
              "      cursor: pointer;\n",
              "      display: none;\n",
              "      fill: #1967D2;\n",
              "      height: 32px;\n",
              "      padding: 0 0 0 0;\n",
              "      width: 32px;\n",
              "    }\n",
              "\n",
              "    .colab-df-convert:hover {\n",
              "      background-color: #E2EBFA;\n",
              "      box-shadow: 0px 1px 2px rgba(60, 64, 67, 0.3), 0px 1px 3px 1px rgba(60, 64, 67, 0.15);\n",
              "      fill: #174EA6;\n",
              "    }\n",
              "\n",
              "    [theme=dark] .colab-df-convert {\n",
              "      background-color: #3B4455;\n",
              "      fill: #D2E3FC;\n",
              "    }\n",
              "\n",
              "    [theme=dark] .colab-df-convert:hover {\n",
              "      background-color: #434B5C;\n",
              "      box-shadow: 0px 1px 3px 1px rgba(0, 0, 0, 0.15);\n",
              "      filter: drop-shadow(0px 1px 2px rgba(0, 0, 0, 0.3));\n",
              "      fill: #FFFFFF;\n",
              "    }\n",
              "  </style>\n",
              "\n",
              "      <script>\n",
              "        const buttonEl =\n",
              "          document.querySelector('#df-d83aaa44-0f68-47e5-940d-e36d9434f624 button.colab-df-convert');\n",
              "        buttonEl.style.display =\n",
              "          google.colab.kernel.accessAllowed ? 'block' : 'none';\n",
              "\n",
              "        async function convertToInteractive(key) {\n",
              "          const element = document.querySelector('#df-d83aaa44-0f68-47e5-940d-e36d9434f624');\n",
              "          const dataTable =\n",
              "            await google.colab.kernel.invokeFunction('convertToInteractive',\n",
              "                                                     [key], {});\n",
              "          if (!dataTable) return;\n",
              "\n",
              "          const docLinkHtml = 'Like what you see? Visit the ' +\n",
              "            '<a target=\"_blank\" href=https://colab.research.google.com/notebooks/data_table.ipynb>data table notebook</a>'\n",
              "            + ' to learn more about interactive tables.';\n",
              "          element.innerHTML = '';\n",
              "          dataTable['output_type'] = 'display_data';\n",
              "          await google.colab.output.renderOutput(dataTable, element);\n",
              "          const docLink = document.createElement('div');\n",
              "          docLink.innerHTML = docLinkHtml;\n",
              "          element.appendChild(docLink);\n",
              "        }\n",
              "      </script>\n",
              "    </div>\n",
              "  </div>\n",
              "  "
            ]
          },
          "metadata": {},
          "execution_count": 13
        }
      ]
    },
    {
      "cell_type": "markdown",
      "source": [
        "#Now we have hourly data for **1441** days. For forecasting we need to come up with a plan to decide the past history that will be used for forecasting, i.e. forecast x hours based on past y hours.  "
      ],
      "metadata": {
        "id": "36BLDGVGTmJq"
      }
    },
    {
      "cell_type": "markdown",
      "source": [
        "###Prepare data for training. Based on x hours of data we predict next y hours of data"
      ],
      "metadata": {
        "id": "mIK8UbrKdjsx"
      }
    },
    {
      "cell_type": "code",
      "source": [
        "def prepare_data_with_past_and_horizon(dataframe, past_history=24, horizon=24):\n",
        "    '''\n",
        "    Prepare the training data with past_history (lags) and horizon of prediction steps\n",
        "    Params:\n",
        "    dataframe (Pandas dataframe): the dataframe containing the data\n",
        "    past_history (int): the past history steps to be considered as lags\n",
        "    horizon (int): steps in future for prediction.   \n",
        "    '''\n",
        "\n",
        "    numpy_dataframe = dataframe.to_numpy()\n",
        "    X = []\n",
        "    y = []\n",
        "\n",
        "    for i in range(len(numpy_dataframe) - past_history - horizon + 1):\n",
        "        X.append([a for a in numpy_dataframe[i:i+past_history]])\n",
        "        y.append([a for a in numpy_dataframe[i+past_history:i+past_history+horizon]])\n",
        "\n",
        "    return np.array(X),np.array(y).reshape(len(y),-1)"
      ],
      "metadata": {
        "cellView": "code",
        "id": "kSJzbJm2bZlY"
      },
      "execution_count": null,
      "outputs": []
    },
    {
      "cell_type": "code",
      "source": [
        "X, y = prepare_data_with_past_and_horizon(household_daily_power_consumption_df)"
      ],
      "metadata": {
        "id": "DDvezZRt5DHT"
      },
      "execution_count": null,
      "outputs": []
    },
    {
      "cell_type": "code",
      "source": [
        "household_daily_power_consumption_df"
      ],
      "metadata": {
        "colab": {
          "base_uri": "https://localhost:8080/",
          "height": 455
        },
        "id": "WETJMKE7xS5R",
        "outputId": "f3c1b9be-b54e-4bda-b590-f9afe9a2c41f"
      },
      "execution_count": null,
      "outputs": [
        {
          "output_type": "execute_result",
          "data": {
            "text/plain": [
              "                     Global_active_power  Global_reactive_power       Voltage  \\\n",
              "timestamp                                                                       \n",
              "2006-12-16 18:00:00           217.932007                  4.802  14074.809570   \n",
              "2006-12-16 19:00:00           204.013992                  5.114  13993.950195   \n",
              "2006-12-16 20:00:00           196.113998                  4.506  14044.290039   \n",
              "2006-12-16 21:00:00           183.388000                  4.600  14229.519531   \n",
              "2006-12-16 22:00:00           132.007996                  3.370  14325.599609   \n",
              "...                                  ...                    ...           ...   \n",
              "2010-11-26 13:00:00            96.776001                 12.392  14313.019531   \n",
              "2010-11-26 14:00:00            84.466003                  7.514  14381.419922   \n",
              "2010-11-26 15:00:00            52.585999                  6.154  14447.440430   \n",
              "2010-11-26 16:00:00            64.075996                 12.938  14427.469727   \n",
              "2010-11-26 17:00:00           103.554001                  3.684  14224.179688   \n",
              "\n",
              "                     Global_intensity  Sub_metering_1  Sub_metering_2  \\\n",
              "timestamp                                                               \n",
              "2006-12-16 18:00:00        936.000000             0.0           403.0   \n",
              "2006-12-16 19:00:00        870.200012             0.0            86.0   \n",
              "2006-12-16 20:00:00        835.000000             0.0             0.0   \n",
              "2006-12-16 21:00:00        782.799988             0.0            25.0   \n",
              "2006-12-16 22:00:00        571.400024             0.0             8.0   \n",
              "...                               ...             ...             ...   \n",
              "2010-11-26 13:00:00        412.799988             0.0             0.0   \n",
              "2010-11-26 14:00:00        351.199982             0.0             0.0   \n",
              "2010-11-26 15:00:00        218.599991             0.0            16.0   \n",
              "2010-11-26 16:00:00        276.600006             0.0            57.0   \n",
              "2010-11-26 17:00:00        433.000000             0.0             0.0   \n",
              "\n",
              "                     Sub_metering_3  \n",
              "timestamp                            \n",
              "2006-12-16 18:00:00          1012.0  \n",
              "2006-12-16 19:00:00          1001.0  \n",
              "2006-12-16 20:00:00          1007.0  \n",
              "2006-12-16 21:00:00          1033.0  \n",
              "2006-12-16 22:00:00           266.0  \n",
              "...                             ...  \n",
              "2010-11-26 13:00:00          1048.0  \n",
              "2010-11-26 14:00:00          1058.0  \n",
              "2010-11-26 15:00:00           514.0  \n",
              "2010-11-26 16:00:00             0.0  \n",
              "2010-11-26 17:00:00           772.0  \n",
              "\n",
              "[34584 rows x 7 columns]"
            ],
            "text/html": [
              "\n",
              "  <div id=\"df-e2c5329b-e8b7-49c0-ad61-a24c0756d2c7\">\n",
              "    <div class=\"colab-df-container\">\n",
              "      <div>\n",
              "<style scoped>\n",
              "    .dataframe tbody tr th:only-of-type {\n",
              "        vertical-align: middle;\n",
              "    }\n",
              "\n",
              "    .dataframe tbody tr th {\n",
              "        vertical-align: top;\n",
              "    }\n",
              "\n",
              "    .dataframe thead th {\n",
              "        text-align: right;\n",
              "    }\n",
              "</style>\n",
              "<table border=\"1\" class=\"dataframe\">\n",
              "  <thead>\n",
              "    <tr style=\"text-align: right;\">\n",
              "      <th></th>\n",
              "      <th>Global_active_power</th>\n",
              "      <th>Global_reactive_power</th>\n",
              "      <th>Voltage</th>\n",
              "      <th>Global_intensity</th>\n",
              "      <th>Sub_metering_1</th>\n",
              "      <th>Sub_metering_2</th>\n",
              "      <th>Sub_metering_3</th>\n",
              "    </tr>\n",
              "    <tr>\n",
              "      <th>timestamp</th>\n",
              "      <th></th>\n",
              "      <th></th>\n",
              "      <th></th>\n",
              "      <th></th>\n",
              "      <th></th>\n",
              "      <th></th>\n",
              "      <th></th>\n",
              "    </tr>\n",
              "  </thead>\n",
              "  <tbody>\n",
              "    <tr>\n",
              "      <th>2006-12-16 18:00:00</th>\n",
              "      <td>217.932007</td>\n",
              "      <td>4.802</td>\n",
              "      <td>14074.809570</td>\n",
              "      <td>936.000000</td>\n",
              "      <td>0.0</td>\n",
              "      <td>403.0</td>\n",
              "      <td>1012.0</td>\n",
              "    </tr>\n",
              "    <tr>\n",
              "      <th>2006-12-16 19:00:00</th>\n",
              "      <td>204.013992</td>\n",
              "      <td>5.114</td>\n",
              "      <td>13993.950195</td>\n",
              "      <td>870.200012</td>\n",
              "      <td>0.0</td>\n",
              "      <td>86.0</td>\n",
              "      <td>1001.0</td>\n",
              "    </tr>\n",
              "    <tr>\n",
              "      <th>2006-12-16 20:00:00</th>\n",
              "      <td>196.113998</td>\n",
              "      <td>4.506</td>\n",
              "      <td>14044.290039</td>\n",
              "      <td>835.000000</td>\n",
              "      <td>0.0</td>\n",
              "      <td>0.0</td>\n",
              "      <td>1007.0</td>\n",
              "    </tr>\n",
              "    <tr>\n",
              "      <th>2006-12-16 21:00:00</th>\n",
              "      <td>183.388000</td>\n",
              "      <td>4.600</td>\n",
              "      <td>14229.519531</td>\n",
              "      <td>782.799988</td>\n",
              "      <td>0.0</td>\n",
              "      <td>25.0</td>\n",
              "      <td>1033.0</td>\n",
              "    </tr>\n",
              "    <tr>\n",
              "      <th>2006-12-16 22:00:00</th>\n",
              "      <td>132.007996</td>\n",
              "      <td>3.370</td>\n",
              "      <td>14325.599609</td>\n",
              "      <td>571.400024</td>\n",
              "      <td>0.0</td>\n",
              "      <td>8.0</td>\n",
              "      <td>266.0</td>\n",
              "    </tr>\n",
              "    <tr>\n",
              "      <th>...</th>\n",
              "      <td>...</td>\n",
              "      <td>...</td>\n",
              "      <td>...</td>\n",
              "      <td>...</td>\n",
              "      <td>...</td>\n",
              "      <td>...</td>\n",
              "      <td>...</td>\n",
              "    </tr>\n",
              "    <tr>\n",
              "      <th>2010-11-26 13:00:00</th>\n",
              "      <td>96.776001</td>\n",
              "      <td>12.392</td>\n",
              "      <td>14313.019531</td>\n",
              "      <td>412.799988</td>\n",
              "      <td>0.0</td>\n",
              "      <td>0.0</td>\n",
              "      <td>1048.0</td>\n",
              "    </tr>\n",
              "    <tr>\n",
              "      <th>2010-11-26 14:00:00</th>\n",
              "      <td>84.466003</td>\n",
              "      <td>7.514</td>\n",
              "      <td>14381.419922</td>\n",
              "      <td>351.199982</td>\n",
              "      <td>0.0</td>\n",
              "      <td>0.0</td>\n",
              "      <td>1058.0</td>\n",
              "    </tr>\n",
              "    <tr>\n",
              "      <th>2010-11-26 15:00:00</th>\n",
              "      <td>52.585999</td>\n",
              "      <td>6.154</td>\n",
              "      <td>14447.440430</td>\n",
              "      <td>218.599991</td>\n",
              "      <td>0.0</td>\n",
              "      <td>16.0</td>\n",
              "      <td>514.0</td>\n",
              "    </tr>\n",
              "    <tr>\n",
              "      <th>2010-11-26 16:00:00</th>\n",
              "      <td>64.075996</td>\n",
              "      <td>12.938</td>\n",
              "      <td>14427.469727</td>\n",
              "      <td>276.600006</td>\n",
              "      <td>0.0</td>\n",
              "      <td>57.0</td>\n",
              "      <td>0.0</td>\n",
              "    </tr>\n",
              "    <tr>\n",
              "      <th>2010-11-26 17:00:00</th>\n",
              "      <td>103.554001</td>\n",
              "      <td>3.684</td>\n",
              "      <td>14224.179688</td>\n",
              "      <td>433.000000</td>\n",
              "      <td>0.0</td>\n",
              "      <td>0.0</td>\n",
              "      <td>772.0</td>\n",
              "    </tr>\n",
              "  </tbody>\n",
              "</table>\n",
              "<p>34584 rows × 7 columns</p>\n",
              "</div>\n",
              "      <button class=\"colab-df-convert\" onclick=\"convertToInteractive('df-e2c5329b-e8b7-49c0-ad61-a24c0756d2c7')\"\n",
              "              title=\"Convert this dataframe to an interactive table.\"\n",
              "              style=\"display:none;\">\n",
              "        \n",
              "  <svg xmlns=\"http://www.w3.org/2000/svg\" height=\"24px\"viewBox=\"0 0 24 24\"\n",
              "       width=\"24px\">\n",
              "    <path d=\"M0 0h24v24H0V0z\" fill=\"none\"/>\n",
              "    <path d=\"M18.56 5.44l.94 2.06.94-2.06 2.06-.94-2.06-.94-.94-2.06-.94 2.06-2.06.94zm-11 1L8.5 8.5l.94-2.06 2.06-.94-2.06-.94L8.5 2.5l-.94 2.06-2.06.94zm10 10l.94 2.06.94-2.06 2.06-.94-2.06-.94-.94-2.06-.94 2.06-2.06.94z\"/><path d=\"M17.41 7.96l-1.37-1.37c-.4-.4-.92-.59-1.43-.59-.52 0-1.04.2-1.43.59L10.3 9.45l-7.72 7.72c-.78.78-.78 2.05 0 2.83L4 21.41c.39.39.9.59 1.41.59.51 0 1.02-.2 1.41-.59l7.78-7.78 2.81-2.81c.8-.78.8-2.07 0-2.86zM5.41 20L4 18.59l7.72-7.72 1.47 1.35L5.41 20z\"/>\n",
              "  </svg>\n",
              "      </button>\n",
              "      \n",
              "  <style>\n",
              "    .colab-df-container {\n",
              "      display:flex;\n",
              "      flex-wrap:wrap;\n",
              "      gap: 12px;\n",
              "    }\n",
              "\n",
              "    .colab-df-convert {\n",
              "      background-color: #E8F0FE;\n",
              "      border: none;\n",
              "      border-radius: 50%;\n",
              "      cursor: pointer;\n",
              "      display: none;\n",
              "      fill: #1967D2;\n",
              "      height: 32px;\n",
              "      padding: 0 0 0 0;\n",
              "      width: 32px;\n",
              "    }\n",
              "\n",
              "    .colab-df-convert:hover {\n",
              "      background-color: #E2EBFA;\n",
              "      box-shadow: 0px 1px 2px rgba(60, 64, 67, 0.3), 0px 1px 3px 1px rgba(60, 64, 67, 0.15);\n",
              "      fill: #174EA6;\n",
              "    }\n",
              "\n",
              "    [theme=dark] .colab-df-convert {\n",
              "      background-color: #3B4455;\n",
              "      fill: #D2E3FC;\n",
              "    }\n",
              "\n",
              "    [theme=dark] .colab-df-convert:hover {\n",
              "      background-color: #434B5C;\n",
              "      box-shadow: 0px 1px 3px 1px rgba(0, 0, 0, 0.15);\n",
              "      filter: drop-shadow(0px 1px 2px rgba(0, 0, 0, 0.3));\n",
              "      fill: #FFFFFF;\n",
              "    }\n",
              "  </style>\n",
              "\n",
              "      <script>\n",
              "        const buttonEl =\n",
              "          document.querySelector('#df-e2c5329b-e8b7-49c0-ad61-a24c0756d2c7 button.colab-df-convert');\n",
              "        buttonEl.style.display =\n",
              "          google.colab.kernel.accessAllowed ? 'block' : 'none';\n",
              "\n",
              "        async function convertToInteractive(key) {\n",
              "          const element = document.querySelector('#df-e2c5329b-e8b7-49c0-ad61-a24c0756d2c7');\n",
              "          const dataTable =\n",
              "            await google.colab.kernel.invokeFunction('convertToInteractive',\n",
              "                                                     [key], {});\n",
              "          if (!dataTable) return;\n",
              "\n",
              "          const docLinkHtml = 'Like what you see? Visit the ' +\n",
              "            '<a target=\"_blank\" href=https://colab.research.google.com/notebooks/data_table.ipynb>data table notebook</a>'\n",
              "            + ' to learn more about interactive tables.';\n",
              "          element.innerHTML = '';\n",
              "          dataTable['output_type'] = 'display_data';\n",
              "          await google.colab.output.renderOutput(dataTable, element);\n",
              "          const docLink = document.createElement('div');\n",
              "          docLink.innerHTML = docLinkHtml;\n",
              "          element.appendChild(docLink);\n",
              "        }\n",
              "      </script>\n",
              "    </div>\n",
              "  </div>\n",
              "  "
            ]
          },
          "metadata": {},
          "execution_count": 16
        }
      ]
    },
    {
      "cell_type": "code",
      "source": [
        "print(X.shape)\n",
        "print(y.shape)"
      ],
      "metadata": {
        "colab": {
          "base_uri": "https://localhost:8080/"
        },
        "id": "QewiuPmi5R8t",
        "outputId": "5aa100f9-f56c-4884-c433-da971edc6ac8"
      },
      "execution_count": null,
      "outputs": [
        {
          "output_type": "stream",
          "name": "stdout",
          "text": [
            "(34537, 24, 7)\n",
            "(34537, 168)\n"
          ]
        }
      ]
    },
    {
      "cell_type": "code",
      "source": [
        "X_train, y_train = X[:24984], y[:24984]\n",
        "X_val, y_val = X[24984:30000], y[24984:30000]\n",
        "X_test, y_test = X[30000:], y[30000:]"
      ],
      "metadata": {
        "id": "NfsaOo3J7UR5"
      },
      "execution_count": null,
      "outputs": []
    },
    {
      "cell_type": "code",
      "source": [
        "X_train_temp = X_train.reshape(X_train.shape[0], -1)\n",
        "X_val_temp = X_val.reshape(X_val.shape[0], -1)\n",
        "X_test_temp = X_test.reshape(X_test.shape[0], -1)\n",
        "\n",
        "x_scaler = MinMaxScaler()\n",
        "\n",
        "X_train_scaled = x_scaler.fit_transform(X_train_temp)\n",
        "X_val_scaled = x_scaler.transform(X_val_temp)\n",
        "X_test_scaled = x_scaler.transform(X_test_temp)\n",
        "\n",
        "X_train_scaled = X_train_scaled.reshape(X_train.shape)\n",
        "X_val_scaled = X_val_scaled.reshape(X_val.shape)\n",
        "X_test_scaled = X_test_scaled.reshape(X_test.shape)\n",
        "\n",
        "y_scaler = MinMaxScaler()\n",
        "\n",
        "y_train_scaled = y_scaler.fit_transform(y_train)\n",
        "y_val_scaled = y_scaler.transform(y_val)\n",
        "y_test_scaled = y_scaler.transform(y_test)"
      ],
      "metadata": {
        "id": "fvhaY_OSCmbg"
      },
      "execution_count": null,
      "outputs": []
    },
    {
      "cell_type": "code",
      "source": [
        "from tensorflow.keras.models import Sequential\n",
        "from tensorflow.keras.layers import *\n",
        "from tensorflow.keras.callbacks import ModelCheckpoint\n",
        "from tensorflow.keras.losses import MeanSquaredError\n",
        "from tensorflow.keras.metrics import RootMeanSquaredError\n",
        "from tensorflow.keras.optimizers import Adam"
      ],
      "metadata": {
        "id": "rmLljq5o7smh"
      },
      "execution_count": null,
      "outputs": []
    },
    {
      "cell_type": "code",
      "source": [
        "forecasting_model = Sequential()\n",
        "forecasting_model.add(LSTM(units=200, activation='relu', input_shape=(24,7)))\n",
        "forecasting_model.add(Dense(24*7))"
      ],
      "metadata": {
        "id": "2Wel_2qwAx-3"
      },
      "execution_count": null,
      "outputs": []
    },
    {
      "cell_type": "code",
      "source": [
        "forecasting_model.compile(optimizer=\"adam\", loss=\"mse\", metrics=\"mae\")"
      ],
      "metadata": {
        "id": "BQF8ggpwSr5l"
      },
      "execution_count": null,
      "outputs": []
    },
    {
      "cell_type": "code",
      "source": [
        "forecasting_model.summary()"
      ],
      "metadata": {
        "colab": {
          "base_uri": "https://localhost:8080/"
        },
        "id": "ICR1UTcIVeIB",
        "outputId": "852fdaa7-e2c1-4ad4-8b8c-fa32edbdc49d"
      },
      "execution_count": null,
      "outputs": [
        {
          "output_type": "stream",
          "name": "stdout",
          "text": [
            "Model: \"sequential\"\n",
            "_________________________________________________________________\n",
            " Layer (type)                Output Shape              Param #   \n",
            "=================================================================\n",
            " lstm (LSTM)                 (None, 200)               166400    \n",
            "                                                                 \n",
            " dense (Dense)               (None, 168)               33768     \n",
            "                                                                 \n",
            "=================================================================\n",
            "Total params: 200,168\n",
            "Trainable params: 200,168\n",
            "Non-trainable params: 0\n",
            "_________________________________________________________________\n"
          ]
        }
      ]
    },
    {
      "cell_type": "code",
      "source": [
        "forecasting_model.fit(X_train_scaled, y_train_scaled, epochs = 10, batch_size = 256, validation_data=(X_val_scaled, y_val_scaled))"
      ],
      "metadata": {
        "colab": {
          "base_uri": "https://localhost:8080/"
        },
        "id": "VFyR0IReVmnA",
        "outputId": "20dc0a9c-3b6c-4281-82a0-8a15ffb54821"
      },
      "execution_count": null,
      "outputs": [
        {
          "output_type": "stream",
          "name": "stdout",
          "text": [
            "Epoch 1/10\n",
            "98/98 [==============================] - 29s 286ms/step - loss: 0.0459 - mae: 0.1310 - val_loss: 0.0318 - val_mae: 0.1068\n",
            "Epoch 2/10\n",
            "98/98 [==============================] - 26s 265ms/step - loss: 0.0254 - mae: 0.0973 - val_loss: 0.0296 - val_mae: 0.1030\n",
            "Epoch 3/10\n",
            "98/98 [==============================] - 26s 265ms/step - loss: 0.0238 - mae: 0.0926 - val_loss: 0.0275 - val_mae: 0.0979\n",
            "Epoch 4/10\n",
            "98/98 [==============================] - 27s 280ms/step - loss: 0.0225 - mae: 0.0890 - val_loss: 0.0261 - val_mae: 0.0950\n",
            "Epoch 5/10\n",
            "98/98 [==============================] - 23s 236ms/step - loss: 0.0214 - mae: 0.0857 - val_loss: 0.0258 - val_mae: 0.0925\n",
            "Epoch 6/10\n",
            "98/98 [==============================] - 21s 219ms/step - loss: 0.0209 - mae: 0.0846 - val_loss: 0.0256 - val_mae: 0.0929\n",
            "Epoch 7/10\n",
            "98/98 [==============================] - 20s 206ms/step - loss: 0.0205 - mae: 0.0832 - val_loss: 0.0249 - val_mae: 0.0914\n",
            "Epoch 8/10\n",
            "98/98 [==============================] - 21s 219ms/step - loss: 0.0202 - mae: 0.0819 - val_loss: 0.0253 - val_mae: 0.0913\n",
            "Epoch 9/10\n",
            "98/98 [==============================] - 22s 222ms/step - loss: 0.0201 - mae: 0.0816 - val_loss: 0.0249 - val_mae: 0.0911\n",
            "Epoch 10/10\n",
            "98/98 [==============================] - 23s 234ms/step - loss: 0.0200 - mae: 0.0813 - val_loss: 0.0248 - val_mae: 0.0905\n"
          ]
        },
        {
          "output_type": "execute_result",
          "data": {
            "text/plain": [
              "<keras.callbacks.History at 0x7f4ac6b88990>"
            ]
          },
          "metadata": {},
          "execution_count": 24
        }
      ]
    },
    {
      "cell_type": "code",
      "source": [
        "results = forecasting_model.evaluate(X_test_scaled,y_test_scaled, batch_size = 25)"
      ],
      "metadata": {
        "colab": {
          "base_uri": "https://localhost:8080/"
        },
        "id": "K5P5DpAdCUTo",
        "outputId": "8c3f970b-716c-4a19-c555-193f3b2994a7"
      },
      "execution_count": null,
      "outputs": [
        {
          "output_type": "stream",
          "name": "stdout",
          "text": [
            "182/182 [==============================] - 3s 16ms/step - loss: 0.0189 - mae: 0.0763\n"
          ]
        }
      ]
    },
    {
      "cell_type": "code",
      "source": [
        "predictions = forecasting_model.predict(X_test_scaled)"
      ],
      "metadata": {
        "id": "kqzFfd8fc7sh"
      },
      "execution_count": null,
      "outputs": []
    },
    {
      "cell_type": "markdown",
      "source": [
        "###Analysing the predictions"
      ],
      "metadata": {
        "id": "YfQqUIUPgjg2"
      }
    },
    {
      "cell_type": "code",
      "source": [
        "predictions_unscaled = y_scaler.inverse_transform(predictions)"
      ],
      "metadata": {
        "id": "EPmSu9b9nsML"
      },
      "execution_count": null,
      "outputs": []
    },
    {
      "cell_type": "code",
      "source": [
        "predictions_unscaled = predictions_unscaled.reshape(predictions_unscaled.shape[0], -1, 7)\n",
        "predictions_unscaled.shape"
      ],
      "metadata": {
        "colab": {
          "base_uri": "https://localhost:8080/"
        },
        "id": "MAAYnDbmgjDG",
        "outputId": "af8c0c47-e035-42cc-e6bb-7a6914771d14"
      },
      "execution_count": null,
      "outputs": [
        {
          "output_type": "execute_result",
          "data": {
            "text/plain": [
              "(4537, 24, 7)"
            ]
          },
          "metadata": {},
          "execution_count": 27
        }
      ]
    },
    {
      "cell_type": "code",
      "source": [
        "y_test = y_test.reshape(y_test.shape[0], -1, 7)\n",
        "y_test.shape"
      ],
      "metadata": {
        "colab": {
          "base_uri": "https://localhost:8080/"
        },
        "id": "y1mK193zdWFy",
        "outputId": "c3a162b2-e570-4494-810f-ab6c764c878b"
      },
      "execution_count": null,
      "outputs": [
        {
          "output_type": "execute_result",
          "data": {
            "text/plain": [
              "(4537, 24, 7)"
            ]
          },
          "metadata": {},
          "execution_count": 28
        }
      ]
    },
    {
      "cell_type": "markdown",
      "source": [
        "###First feature predicted 1 temp step in the future"
      ],
      "metadata": {
        "id": "bu8rLInVsg7A"
      }
    },
    {
      "cell_type": "code",
      "source": [
        "import matplotlib.pyplot as plt\n",
        "def plot_results(predictions_df, title, range_start=0, range_end=200):\n",
        "    plt.rcParams[\"figure.figsize\"] = (35,10)\n",
        "    plt.plot(predictions_df['Actual'][range_start:range_end], label='Actual')\n",
        "    plt.plot(predictions_df['Predicted'][range_start:range_end], label='Predicted')\n",
        "    plt.xticks(predictions_df.index[range_start:range_end:24])\n",
        "    plt.legend()\n",
        "    plt.xlabel('Time')\n",
        "    plt.ylabel('Observed')\n",
        "    plt.title(title)"
      ],
      "metadata": {
        "id": "CVXmV0QuvlRX"
      },
      "execution_count": null,
      "outputs": []
    },
    {
      "cell_type": "code",
      "source": [
        "def verify_results(time_index, y_test, predictions, feature, time_steps_in_horizon, range_start=0, range_end=100):\n",
        "    predictions_df = pd.DataFrame({'Time': time_index, 'Actual': y_test[:,time_steps_in_horizon,feature], 'Predicted': predictions[:,time_steps_in_horizon,feature]})\n",
        "    predictions_df.set_index('Time', inplace=True)\n",
        "\n",
        "    predictions_df = predictions_df[predictions_df['Actual'] > 0]\n",
        "\n",
        "    mape = mean_absolute_percentage_error(predictions_df['Actual'], predictions_df['Predicted'], multioutput='uniform_average')\n",
        "    print(f'Mean absolute percentage error: {mape}')\n",
        "\n",
        "    plot_results(predictions_df, f'Feature {feature}, prediction horizon {time_steps_in_horizon}')"
      ],
      "metadata": {
        "id": "mKnaYLmrMios"
      },
      "execution_count": null,
      "outputs": []
    },
    {
      "cell_type": "code",
      "source": [
        "test_timestamps = household_daily_power_consumption_df.index[30000+24+24-1:]"
      ],
      "metadata": {
        "id": "3y_Yggsap1U5"
      },
      "execution_count": null,
      "outputs": []
    },
    {
      "cell_type": "code",
      "source": [
        "verify_results(test_timestamps, y_test, predictions_unscaled, feature = 2, time_steps_in_horizon = 1)"
      ],
      "metadata": {
        "colab": {
          "base_uri": "https://localhost:8080/",
          "height": 424
        },
        "id": "xWLHlcHunXL3",
        "outputId": "67676685-b43d-4471-c1f3-eefa7f16ba69"
      },
      "execution_count": null,
      "outputs": [
        {
          "output_type": "stream",
          "name": "stdout",
          "text": [
            "Mean absolute percentage error: 0.018360288813710213\n"
          ]
        },
        {
          "output_type": "display_data",
          "data": {
            "text/plain": [
              "<Figure size 2520x720 with 1 Axes>"
            ],
            "image/png": "[encoded data removed]"
          },
          "metadata": {
            "needs_background": "light"
          }
        }
      ]
    },
    {
      "cell_type": "code",
      "source": [
        "predictions"
      ],
      "metadata": {
        "id": "_7TZtmeLp5zR"
      },
      "execution_count": null,
      "outputs": []
    }
  ]
}